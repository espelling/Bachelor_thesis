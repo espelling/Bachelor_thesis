{
 "cells": [
  {
   "cell_type": "markdown",
   "id": "d0acf3b6",
   "metadata": {},
   "source": [
    "# Import aller Bibliotheken + Frameworks"
   ]
  },
  {
   "cell_type": "code",
   "execution_count": 1,
   "id": "a3162557",
   "metadata": {},
   "outputs": [],
   "source": [
    "import matplotlib.pyplot as plt\n",
    "import matplotlib.dates as mdates\n",
    "import pandas as pd\n",
    "import seaborn as sns\n",
    "import numpy as np"
   ]
  },
  {
   "cell_type": "markdown",
   "id": "96e8ecf8",
   "metadata": {},
   "source": [
    "# 1. Datenimport"
   ]
  },
  {
   "cell_type": "code",
   "execution_count": 2,
   "id": "56d8dc30",
   "metadata": {},
   "outputs": [],
   "source": [
    "# Lade CSV aus Ordner -> TIME SERIES (from John Hopkins University)\n",
    "data_TS_world = pd.read_csv('COVID-19-time-series-clean-complete.csv')"
   ]
  },
  {
   "cell_type": "markdown",
   "id": "c6d979e5",
   "metadata": {},
   "source": [
    "# 2. Data Processing - TIME SERIES"
   ]
  },
  {
   "cell_type": "markdown",
   "id": "4e481945",
   "metadata": {},
   "source": [
    "#### Die Tabelle \"data_TS_world\" beinhaltet die Zeitreihen aller Länder weltweit -> positive Covid-Fälle + Todesfälle"
   ]
  },
  {
   "cell_type": "code",
   "execution_count": 3,
   "id": "db353f1c",
   "metadata": {},
   "outputs": [
    {
     "name": "stdout",
     "output_type": "stream",
     "text": [
      "<class 'pandas.core.frame.DataFrame'>\n",
      "RangeIndex: 169617 entries, 0 to 169616\n",
      "Data columns (total 10 columns):\n",
      " #   Column          Non-Null Count   Dtype  \n",
      "---  ------          --------------   -----  \n",
      " 0   Unnamed: 0      169617 non-null  int64  \n",
      " 1   Date            169617 non-null  object \n",
      " 2   Country/Region  169617 non-null  object \n",
      " 3   Confirmed       169617 non-null  int64  \n",
      " 4   Deaths          169617 non-null  int64  \n",
      " 5   Recovered       169617 non-null  float64\n",
      " 6   Active          169617 non-null  float64\n",
      " 7   New cases       169617 non-null  int64  \n",
      " 8   New deaths      169617 non-null  int64  \n",
      " 9   New recovered   169617 non-null  int64  \n",
      "dtypes: float64(2), int64(6), object(2)\n",
      "memory usage: 12.9+ MB\n"
     ]
    }
   ],
   "source": [
    "data_TS_world.info()"
   ]
  },
  {
   "cell_type": "markdown",
   "id": "d0fb4764",
   "metadata": {},
   "source": [
    "## 2.1. Join der beiden Tabellen -> Fälle + Impfungen"
   ]
  },
  {
   "cell_type": "code",
   "execution_count": 4,
   "id": "b62a0f42",
   "metadata": {},
   "outputs": [],
   "source": [
    "# Cases -> Namensänderungen\n",
    "data_TS_world = data_TS_world.drop(['Unnamed: 0'], axis=1)\n",
    "data_TS_world = data_TS_world.rename(columns={\"Country/Region\":\"Country_Region\", \"Confirmed\":\"Confirmed_Cases\", \"New cases\":\"New_Cases\", \"New deaths\":\"New_Deaths\", \"New recovered\":\"New_Recovered\"})"
   ]
  },
  {
   "cell_type": "code",
   "execution_count": 5,
   "id": "c45d4dbe",
   "metadata": {},
   "outputs": [],
   "source": [
    "# Daten der Impfungen werden geladen\n",
    "data_TS_world_doses = pd.read_csv('time_series_covid19_vaccine_global.csv')\n",
    "\n",
    "# Spalten entfernen\n",
    "data_TS_world_doses = data_TS_world_doses.drop([\"Report_Date_String\", \"UID\"], axis=1)\n",
    "\n",
    "# filtern nach Zeilen mit \"Province_State = NaN\" => es handelt sich um die Gesamtzahl/Country/Tag (keine Provinzen!)\n",
    "data_TS_world_doses = data_TS_world_doses[data_TS_world_doses['Province_State'].isna()]"
   ]
  },
  {
   "cell_type": "code",
   "execution_count": 6,
   "id": "8cf2c6e2",
   "metadata": {},
   "outputs": [],
   "source": [
    "# Join -> Cases-Tabelle + Impfungen-Tabelle\n",
    "full_table_world = data_TS_world.merge(\n",
    "    right = data_TS_world_doses,\n",
    "    how = 'left',\n",
    "    on = ['Country_Region', 'Date'],\n",
    "    indicator=True   # adds a new column \"_merge\" -> values: left_only OR right_only OR both\n",
    ")\n",
    "\n",
    "#full_table_world.shape"
   ]
  },
  {
   "cell_type": "markdown",
   "id": "d181c710",
   "metadata": {},
   "source": [
    "#### Die Tabelle \"full_table_world\" beinhaltet alle Covid- und Impf-Daten. "
   ]
  },
  {
   "cell_type": "code",
   "execution_count": 7,
   "id": "07ee54bb",
   "metadata": {},
   "outputs": [],
   "source": [
    "# Entfernen von Spalten\n",
    "full_table_world = full_table_world.drop([\"People_partially_vaccinated\", \"People_fully_vaccinated\"], axis=1)"
   ]
  },
  {
   "cell_type": "code",
   "execution_count": 8,
   "id": "c1a77165",
   "metadata": {},
   "outputs": [],
   "source": [
    "# Spalte \"Date\" wird von String- ins Date-Format umgewandelt\n",
    "full_table_world['Date'] = pd.to_datetime(full_table_world['Date'])"
   ]
  },
  {
   "cell_type": "markdown",
   "id": "3b068338",
   "metadata": {},
   "source": [
    "## 2.2 Join mit Tabelle -> \"GDP_and_pop_by_country\"\n",
    "#### Die Tabelle beinhaltet alle Werte zu den Populationen und den BIPs"
   ]
  },
  {
   "cell_type": "code",
   "execution_count": 9,
   "id": "b70bfe57",
   "metadata": {},
   "outputs": [],
   "source": [
    "# Tabelle mit GDP und Populationen laden (vom IWF)\n",
    "GDP_pop_world = pd.read_csv('GDP_and_pop_by_country.csv')"
   ]
  },
  {
   "cell_type": "code",
   "execution_count": 10,
   "id": "ac49b7e8",
   "metadata": {},
   "outputs": [],
   "source": [
    "# diverse Namensanpassungen\n",
    "GDP_pop_world = GDP_pop_world[{'country', 'imfGDP', 'pop'}]\n",
    "GDP_pop_world = GDP_pop_world.rename(columns={\"imfGDP\":\"GDP\", \"pop\":\"Population\", \"country\":\"Country_Region\"})\n",
    "\n",
    "# GDP = BIP vom Internationalen Währungsfond 2019\n",
    "# Population 2019\n",
    "\n",
    "GDP_pop_world = GDP_pop_world.replace(\"United States\", \"US\")\n",
    "GDP_pop_world = GDP_pop_world.replace(\"Czech Republic\", \"Czechia\")\n",
    "GDP_pop_world = GDP_pop_world.replace(\"South Korea\", \"Korea, South\")"
   ]
  },
  {
   "cell_type": "code",
   "execution_count": 11,
   "id": "06a1ff24",
   "metadata": {},
   "outputs": [
    {
     "data": {
      "text/html": [
       "<div>\n",
       "<style scoped>\n",
       "    .dataframe tbody tr th:only-of-type {\n",
       "        vertical-align: middle;\n",
       "    }\n",
       "\n",
       "    .dataframe tbody tr th {\n",
       "        vertical-align: top;\n",
       "    }\n",
       "\n",
       "    .dataframe thead th {\n",
       "        text-align: right;\n",
       "    }\n",
       "</style>\n",
       "<table border=\"1\" class=\"dataframe\">\n",
       "  <thead>\n",
       "    <tr style=\"text-align: right;\">\n",
       "      <th></th>\n",
       "      <th>Population</th>\n",
       "      <th>GDP</th>\n",
       "      <th>Country_Region</th>\n",
       "    </tr>\n",
       "  </thead>\n",
       "  <tbody>\n",
       "    <tr>\n",
       "      <th>1</th>\n",
       "      <td>1448471.4</td>\n",
       "      <td>1.546810e+13</td>\n",
       "      <td>China</td>\n",
       "    </tr>\n",
       "  </tbody>\n",
       "</table>\n",
       "</div>"
      ],
      "text/plain": [
       "   Population           GDP Country_Region\n",
       "1   1448471.4  1.546810e+13          China"
      ]
     },
     "execution_count": 11,
     "metadata": {},
     "output_type": "execute_result"
    }
   ],
   "source": [
    "# Check am Beispiel \"China\"\n",
    "GDP_pop_world[GDP_pop_world['Country_Region']==\"China\"]"
   ]
  },
  {
   "cell_type": "code",
   "execution_count": 12,
   "id": "958647e7",
   "metadata": {},
   "outputs": [],
   "source": [
    "# Spalte \"_merge\" entfernen\n",
    "full_table_world = full_table_world.drop([\"_merge\"], axis=1)\n",
    "\n",
    "# Join mit full_table_world\n",
    "full_table_world_final = full_table_world.merge(\n",
    "    right = GDP_pop_world,\n",
    "    how = 'left',\n",
    "    on = 'Country_Region',\n",
    "    indicator=True   # fügt Spalte \"_merge\" hinzu -> values: left_only OR right_only OR both\n",
    ")\n",
    "\n",
    "#full_table_world_final.shape"
   ]
  },
  {
   "cell_type": "code",
   "execution_count": 13,
   "id": "9a743a4e",
   "metadata": {},
   "outputs": [
    {
     "data": {
      "text/plain": [
       "['Burma',\n",
       " 'Korea, North',\n",
       " 'West Bank and Gaza',\n",
       " 'Congo (Brazzaville)',\n",
       " 'Antarctica',\n",
       " 'Congo (Kinshasa)',\n",
       " 'Cabo Verde',\n",
       " 'Kosovo',\n",
       " 'Holy See',\n",
       " \"Cote d'Ivoire\",\n",
       " 'Winter Olympics 2022',\n",
       " 'Taiwan*',\n",
       " 'Summer Olympics 2020']"
      ]
     },
     "execution_count": 13,
     "metadata": {},
     "output_type": "execute_result"
    }
   ],
   "source": [
    "# Werte der fehlerhaften Länderbezeichnungen ausgeben\n",
    "test = full_table_world_final[full_table_world_final[\"_merge\"]==\"left_only\"]\n",
    "\n",
    "list_wrong_countries = test[\"Country_Region\"].tolist()\n",
    "\n",
    "myset = set(list_wrong_countries)\n",
    "mynewlist = list(myset)\n",
    "mynewlist"
   ]
  },
  {
   "cell_type": "markdown",
   "id": "da8a4d4c",
   "metadata": {},
   "source": [
    "# 3. Finale Tabelle erstellen"
   ]
  },
  {
   "cell_type": "code",
   "execution_count": 14,
   "id": "b85076d1",
   "metadata": {},
   "outputs": [],
   "source": [
    "# Namensänderungen von Spalten\n",
    "full_table_world_final = full_table_world_final.rename(columns={\"Country_Region\":\"Country\"})\n",
    "\n",
    "# Spalte \"_merge\" entfernen\n",
    "full_table_world_final = full_table_world_final.drop([\"_merge\"], axis=1)\n",
    "\n",
    "# NaN to 0\n",
    "full_table_world_final['Population'] = full_table_world_final['Population'].fillna(0)\n",
    "full_table_world_final['Doses_admin'] = full_table_world_final['Doses_admin'].fillna(0)\n",
    "\n",
    "# Kommas aufheben\n",
    "full_table_world_final['Population'] = full_table_world_final['Population'] * 1000\n",
    "\n",
    "# Casting -> float zu int\n",
    "#full_table_world_final['Doses_admin'] = full_table_world_final['Doses_admin'].astype(int)\n",
    "full_table_world_final['Population'] = full_table_world_final['Population'].astype(int)\n",
    "\n",
    "# Kalukaltionen:\n",
    "# relative KPIs\n",
    "full_table_world_final['Confirmed_Cases_rel'] = (full_table_world_final['Confirmed_Cases']*100) / full_table_world_final['Population']\n",
    "full_table_world_final['Deaths_rel'] = (full_table_world_final['Deaths']*100) / full_table_world_final['Population']\n",
    "\n",
    "# Doses_admin / 100 Einwohner\n",
    "full_table_world_final['Doses_admin_per_100'] = full_table_world_final['Doses_admin'] / (full_table_world_final['Population']/100) \n",
    "\n",
    "# GDP pro Kopf\n",
    "full_table_world_final['GDP_pro_Kopf'] = full_table_world_final['GDP'] / full_table_world_final['Population']"
   ]
  },
  {
   "cell_type": "code",
   "execution_count": 15,
   "id": "0c85ec11",
   "metadata": {},
   "outputs": [],
   "source": [
    "dashboard_time_series_complete = full_table_world_final"
   ]
  },
  {
   "cell_type": "code",
   "execution_count": 16,
   "id": "1c635c6b",
   "metadata": {},
   "outputs": [],
   "source": [
    "# Spalten entfernen\n",
    "dashboard_time_series_complete = dashboard_time_series_complete.drop([\"Recovered\", \"Active\", \"New_Recovered\", \"Province_State\"], axis=1)\n",
    "\n",
    "# alle Zeilen mit NaN-Werten entfernen\n",
    "dashboard_time_series_complete['Population'] = dashboard_time_series_complete['Population'].dropna()\n",
    "dashboard_time_series_complete = dashboard_time_series_complete.dropna()"
   ]
  },
  {
   "cell_type": "code",
   "execution_count": 17,
   "id": "b1491744",
   "metadata": {},
   "outputs": [
    {
     "data": {
      "text/html": [
       "<div>\n",
       "<style scoped>\n",
       "    .dataframe tbody tr th:only-of-type {\n",
       "        vertical-align: middle;\n",
       "    }\n",
       "\n",
       "    .dataframe tbody tr th {\n",
       "        vertical-align: top;\n",
       "    }\n",
       "\n",
       "    .dataframe thead th {\n",
       "        text-align: right;\n",
       "    }\n",
       "</style>\n",
       "<table border=\"1\" class=\"dataframe\">\n",
       "  <thead>\n",
       "    <tr style=\"text-align: right;\">\n",
       "      <th></th>\n",
       "      <th>Date</th>\n",
       "      <th>Country</th>\n",
       "      <th>Confirmed_Cases</th>\n",
       "      <th>Deaths</th>\n",
       "      <th>New_Cases</th>\n",
       "      <th>New_Deaths</th>\n",
       "      <th>Doses_admin</th>\n",
       "      <th>Population</th>\n",
       "      <th>GDP</th>\n",
       "      <th>Confirmed_Cases_rel</th>\n",
       "      <th>Deaths_rel</th>\n",
       "      <th>Doses_admin_per_100</th>\n",
       "      <th>GDP_pro_Kopf</th>\n",
       "    </tr>\n",
       "  </thead>\n",
       "  <tbody>\n",
       "    <tr>\n",
       "      <th>0</th>\n",
       "      <td>2020-01-22</td>\n",
       "      <td>Afghanistan</td>\n",
       "      <td>0</td>\n",
       "      <td>0</td>\n",
       "      <td>0</td>\n",
       "      <td>0</td>\n",
       "      <td>0.0</td>\n",
       "      <td>40754388</td>\n",
       "      <td>2.068200e+10</td>\n",
       "      <td>0.000000</td>\n",
       "      <td>0.000000</td>\n",
       "      <td>0.000000</td>\n",
       "      <td>507.479096</td>\n",
       "    </tr>\n",
       "    <tr>\n",
       "      <th>1</th>\n",
       "      <td>2020-01-22</td>\n",
       "      <td>Albania</td>\n",
       "      <td>0</td>\n",
       "      <td>0</td>\n",
       "      <td>0</td>\n",
       "      <td>0</td>\n",
       "      <td>0.0</td>\n",
       "      <td>2866374</td>\n",
       "      <td>1.721000e+10</td>\n",
       "      <td>0.000000</td>\n",
       "      <td>0.000000</td>\n",
       "      <td>0.000000</td>\n",
       "      <td>6004.101349</td>\n",
       "    </tr>\n",
       "    <tr>\n",
       "      <th>2</th>\n",
       "      <td>2020-01-22</td>\n",
       "      <td>Algeria</td>\n",
       "      <td>0</td>\n",
       "      <td>0</td>\n",
       "      <td>0</td>\n",
       "      <td>0</td>\n",
       "      <td>0.0</td>\n",
       "      <td>45350148</td>\n",
       "      <td>1.930560e+11</td>\n",
       "      <td>0.000000</td>\n",
       "      <td>0.000000</td>\n",
       "      <td>0.000000</td>\n",
       "      <td>4257.009260</td>\n",
       "    </tr>\n",
       "    <tr>\n",
       "      <th>3</th>\n",
       "      <td>2020-01-22</td>\n",
       "      <td>Andorra</td>\n",
       "      <td>0</td>\n",
       "      <td>0</td>\n",
       "      <td>0</td>\n",
       "      <td>0</td>\n",
       "      <td>0.0</td>\n",
       "      <td>77463</td>\n",
       "      <td>0.000000e+00</td>\n",
       "      <td>0.000000</td>\n",
       "      <td>0.000000</td>\n",
       "      <td>0.000000</td>\n",
       "      <td>0.000000</td>\n",
       "    </tr>\n",
       "    <tr>\n",
       "      <th>4</th>\n",
       "      <td>2020-01-22</td>\n",
       "      <td>Angola</td>\n",
       "      <td>0</td>\n",
       "      <td>0</td>\n",
       "      <td>0</td>\n",
       "      <td>0</td>\n",
       "      <td>0.0</td>\n",
       "      <td>35027343</td>\n",
       "      <td>9.642600e+10</td>\n",
       "      <td>0.000000</td>\n",
       "      <td>0.000000</td>\n",
       "      <td>0.000000</td>\n",
       "      <td>2752.877945</td>\n",
       "    </tr>\n",
       "    <tr>\n",
       "      <th>...</th>\n",
       "      <td>...</td>\n",
       "      <td>...</td>\n",
       "      <td>...</td>\n",
       "      <td>...</td>\n",
       "      <td>...</td>\n",
       "      <td>...</td>\n",
       "      <td>...</td>\n",
       "      <td>...</td>\n",
       "      <td>...</td>\n",
       "      <td>...</td>\n",
       "      <td>...</td>\n",
       "      <td>...</td>\n",
       "      <td>...</td>\n",
       "    </tr>\n",
       "    <tr>\n",
       "      <th>169610</th>\n",
       "      <td>2022-05-31</td>\n",
       "      <td>Venezuela</td>\n",
       "      <td>523654</td>\n",
       "      <td>5721</td>\n",
       "      <td>36</td>\n",
       "      <td>0</td>\n",
       "      <td>37860994.0</td>\n",
       "      <td>29266991</td>\n",
       "      <td>7.010600e+10</td>\n",
       "      <td>1.789231</td>\n",
       "      <td>0.019548</td>\n",
       "      <td>129.364150</td>\n",
       "      <td>2395.394867</td>\n",
       "    </tr>\n",
       "    <tr>\n",
       "      <th>169611</th>\n",
       "      <td>2022-05-31</td>\n",
       "      <td>Vietnam</td>\n",
       "      <td>10719379</td>\n",
       "      <td>43079</td>\n",
       "      <td>1010</td>\n",
       "      <td>1</td>\n",
       "      <td>220779518.0</td>\n",
       "      <td>98953541</td>\n",
       "      <td>2.823720e+11</td>\n",
       "      <td>10.832739</td>\n",
       "      <td>0.043535</td>\n",
       "      <td>223.114318</td>\n",
       "      <td>2853.581561</td>\n",
       "    </tr>\n",
       "    <tr>\n",
       "      <th>169614</th>\n",
       "      <td>2022-05-31</td>\n",
       "      <td>Yemen</td>\n",
       "      <td>11822</td>\n",
       "      <td>2149</td>\n",
       "      <td>0</td>\n",
       "      <td>0</td>\n",
       "      <td>836455.0</td>\n",
       "      <td>31154867</td>\n",
       "      <td>3.138500e+10</td>\n",
       "      <td>0.037946</td>\n",
       "      <td>0.006898</td>\n",
       "      <td>2.684829</td>\n",
       "      <td>1007.386743</td>\n",
       "    </tr>\n",
       "    <tr>\n",
       "      <th>169615</th>\n",
       "      <td>2022-05-31</td>\n",
       "      <td>Zambia</td>\n",
       "      <td>321779</td>\n",
       "      <td>3987</td>\n",
       "      <td>276</td>\n",
       "      <td>2</td>\n",
       "      <td>3478542.0</td>\n",
       "      <td>19470234</td>\n",
       "      <td>2.527200e+10</td>\n",
       "      <td>1.652671</td>\n",
       "      <td>0.020477</td>\n",
       "      <td>17.865949</td>\n",
       "      <td>1297.981319</td>\n",
       "    </tr>\n",
       "    <tr>\n",
       "      <th>169616</th>\n",
       "      <td>2022-05-31</td>\n",
       "      <td>Zimbabwe</td>\n",
       "      <td>252398</td>\n",
       "      <td>5503</td>\n",
       "      <td>306</td>\n",
       "      <td>3</td>\n",
       "      <td>11742863.0</td>\n",
       "      <td>15331428</td>\n",
       "      <td>2.581200e+10</td>\n",
       "      <td>1.646278</td>\n",
       "      <td>0.035894</td>\n",
       "      <td>76.593407</td>\n",
       "      <td>1683.600510</td>\n",
       "    </tr>\n",
       "  </tbody>\n",
       "</table>\n",
       "<p>158424 rows × 13 columns</p>\n",
       "</div>"
      ],
      "text/plain": [
       "             Date      Country  Confirmed_Cases  Deaths  New_Cases  \\\n",
       "0      2020-01-22  Afghanistan                0       0          0   \n",
       "1      2020-01-22      Albania                0       0          0   \n",
       "2      2020-01-22      Algeria                0       0          0   \n",
       "3      2020-01-22      Andorra                0       0          0   \n",
       "4      2020-01-22       Angola                0       0          0   \n",
       "...           ...          ...              ...     ...        ...   \n",
       "169610 2022-05-31    Venezuela           523654    5721         36   \n",
       "169611 2022-05-31      Vietnam         10719379   43079       1010   \n",
       "169614 2022-05-31        Yemen            11822    2149          0   \n",
       "169615 2022-05-31       Zambia           321779    3987        276   \n",
       "169616 2022-05-31     Zimbabwe           252398    5503        306   \n",
       "\n",
       "        New_Deaths  Doses_admin  Population           GDP  \\\n",
       "0                0          0.0    40754388  2.068200e+10   \n",
       "1                0          0.0     2866374  1.721000e+10   \n",
       "2                0          0.0    45350148  1.930560e+11   \n",
       "3                0          0.0       77463  0.000000e+00   \n",
       "4                0          0.0    35027343  9.642600e+10   \n",
       "...            ...          ...         ...           ...   \n",
       "169610           0   37860994.0    29266991  7.010600e+10   \n",
       "169611           1  220779518.0    98953541  2.823720e+11   \n",
       "169614           0     836455.0    31154867  3.138500e+10   \n",
       "169615           2    3478542.0    19470234  2.527200e+10   \n",
       "169616           3   11742863.0    15331428  2.581200e+10   \n",
       "\n",
       "        Confirmed_Cases_rel  Deaths_rel  Doses_admin_per_100  GDP_pro_Kopf  \n",
       "0                  0.000000    0.000000             0.000000    507.479096  \n",
       "1                  0.000000    0.000000             0.000000   6004.101349  \n",
       "2                  0.000000    0.000000             0.000000   4257.009260  \n",
       "3                  0.000000    0.000000             0.000000      0.000000  \n",
       "4                  0.000000    0.000000             0.000000   2752.877945  \n",
       "...                     ...         ...                  ...           ...  \n",
       "169610             1.789231    0.019548           129.364150   2395.394867  \n",
       "169611            10.832739    0.043535           223.114318   2853.581561  \n",
       "169614             0.037946    0.006898             2.684829   1007.386743  \n",
       "169615             1.652671    0.020477            17.865949   1297.981319  \n",
       "169616             1.646278    0.035894            76.593407   1683.600510  \n",
       "\n",
       "[158424 rows x 13 columns]"
      ]
     },
     "execution_count": 17,
     "metadata": {},
     "output_type": "execute_result"
    }
   ],
   "source": [
    "dashboard_time_series_complete"
   ]
  },
  {
   "cell_type": "markdown",
   "id": "62f036a7",
   "metadata": {},
   "source": [
    "## 3.1. Join mit Tabelle \"GNI_world.csv\"-> Daten zum GNI (Bruttonationaleinkommen)"
   ]
  },
  {
   "cell_type": "code",
   "execution_count": 18,
   "id": "8d25361d",
   "metadata": {},
   "outputs": [],
   "source": [
    "# Tabelle mit GNI laden (von World Bank)\n",
    "GNI_world = pd.read_csv(\"GNI_world.csv\")"
   ]
  },
  {
   "cell_type": "code",
   "execution_count": 19,
   "id": "78a59409",
   "metadata": {},
   "outputs": [
    {
     "data": {
      "text/html": [
       "<div>\n",
       "<style scoped>\n",
       "    .dataframe tbody tr th:only-of-type {\n",
       "        vertical-align: middle;\n",
       "    }\n",
       "\n",
       "    .dataframe tbody tr th {\n",
       "        vertical-align: top;\n",
       "    }\n",
       "\n",
       "    .dataframe thead th {\n",
       "        text-align: right;\n",
       "    }\n",
       "</style>\n",
       "<table border=\"1\" class=\"dataframe\">\n",
       "  <thead>\n",
       "    <tr style=\"text-align: right;\">\n",
       "      <th></th>\n",
       "      <th>GNI_2019</th>\n",
       "      <th>Country</th>\n",
       "      <th>Income group</th>\n",
       "    </tr>\n",
       "  </thead>\n",
       "  <tbody>\n",
       "    <tr>\n",
       "      <th>0</th>\n",
       "      <td>NaN</td>\n",
       "      <td>Aruba</td>\n",
       "      <td>0</td>\n",
       "    </tr>\n",
       "    <tr>\n",
       "      <th>1</th>\n",
       "      <td>1535.776856</td>\n",
       "      <td>Africa Eastern and Southern</td>\n",
       "      <td>Lower-middle</td>\n",
       "    </tr>\n",
       "    <tr>\n",
       "      <th>2</th>\n",
       "      <td>520.000000</td>\n",
       "      <td>Afghanistan</td>\n",
       "      <td>Low</td>\n",
       "    </tr>\n",
       "    <tr>\n",
       "      <th>3</th>\n",
       "      <td>1669.153323</td>\n",
       "      <td>Africa Western and Central</td>\n",
       "      <td>Lower-middle</td>\n",
       "    </tr>\n",
       "    <tr>\n",
       "      <th>4</th>\n",
       "      <td>2970.000000</td>\n",
       "      <td>Angola</td>\n",
       "      <td>Lower-middle</td>\n",
       "    </tr>\n",
       "    <tr>\n",
       "      <th>...</th>\n",
       "      <td>...</td>\n",
       "      <td>...</td>\n",
       "      <td>...</td>\n",
       "    </tr>\n",
       "    <tr>\n",
       "      <th>261</th>\n",
       "      <td>4640.000000</td>\n",
       "      <td>Kosovo</td>\n",
       "      <td>Upper-middle</td>\n",
       "    </tr>\n",
       "    <tr>\n",
       "      <th>262</th>\n",
       "      <td>NaN</td>\n",
       "      <td>Yemen, Rep.</td>\n",
       "      <td>0</td>\n",
       "    </tr>\n",
       "    <tr>\n",
       "      <th>263</th>\n",
       "      <td>6670.000000</td>\n",
       "      <td>South Africa</td>\n",
       "      <td>Upper-middle</td>\n",
       "    </tr>\n",
       "    <tr>\n",
       "      <th>264</th>\n",
       "      <td>1430.000000</td>\n",
       "      <td>Zambia</td>\n",
       "      <td>Lower-middle</td>\n",
       "    </tr>\n",
       "    <tr>\n",
       "      <th>265</th>\n",
       "      <td>1210.000000</td>\n",
       "      <td>Zimbabwe</td>\n",
       "      <td>Lower-middle</td>\n",
       "    </tr>\n",
       "  </tbody>\n",
       "</table>\n",
       "<p>266 rows × 3 columns</p>\n",
       "</div>"
      ],
      "text/plain": [
       "        GNI_2019                      Country  Income group\n",
       "0            NaN                        Aruba             0\n",
       "1    1535.776856  Africa Eastern and Southern  Lower-middle\n",
       "2     520.000000                  Afghanistan           Low\n",
       "3    1669.153323   Africa Western and Central  Lower-middle\n",
       "4    2970.000000                       Angola  Lower-middle\n",
       "..           ...                          ...           ...\n",
       "261  4640.000000                       Kosovo  Upper-middle\n",
       "262          NaN                  Yemen, Rep.             0\n",
       "263  6670.000000                 South Africa  Upper-middle\n",
       "264  1430.000000                       Zambia  Lower-middle\n",
       "265  1210.000000                     Zimbabwe  Lower-middle\n",
       "\n",
       "[266 rows x 3 columns]"
      ]
     },
     "execution_count": 19,
     "metadata": {},
     "output_type": "execute_result"
    }
   ],
   "source": [
    "# Spalten filtern und umbenennen\n",
    "GNI_world = GNI_world[{'Country Name', '2019'}]\n",
    "GNI_world = GNI_world.rename(columns={\"Country Name\":\"Country\", \"2019\":\"GNI_2019\"})\n",
    "\n",
    "# Klassifizierung der Länder nach Income_Group (siehe World Bank)\n",
    "\n",
    "# Konditionen für Klassifizierung nach Income \n",
    "conditions = [\n",
    "    (GNI_world['GNI_2019'] < 1046),\n",
    "    (GNI_world['GNI_2019'] >= 1046) & (GNI_world['GNI_2019'] <= 4095),\n",
    "    (GNI_world['GNI_2019'] > 4095) & (GNI_world['GNI_2019'] <= 12695),\n",
    "    (GNI_world['GNI_2019'] > 12695)\n",
    "    ]\n",
    "\n",
    "values = ['Low', 'Lower-middle', 'Upper-middle', 'High']\n",
    "\n",
    "GNI_world['Income group'] = np.select(conditions, values)\n",
    "\n",
    "# Tabelle GNI_world ausgeben\n",
    "GNI_world"
   ]
  },
  {
   "cell_type": "code",
   "execution_count": 20,
   "id": "483c836a",
   "metadata": {},
   "outputs": [],
   "source": [
    "# Join mit dashboard_time_series_complete\n",
    "dashboard_time_series_complete = dashboard_time_series_complete.merge(\n",
    "    right = GNI_world,\n",
    "    how = 'left',\n",
    "    on = 'Country',\n",
    "    indicator=True   # fügt Spalte \"_merge\" hinzu -> values: left_only OR right_only OR both\n",
    ")"
   ]
  },
  {
   "cell_type": "code",
   "execution_count": 21,
   "id": "5473abe8",
   "metadata": {},
   "outputs": [],
   "source": [
    "# NaN to 0\n",
    "dashboard_time_series_complete['GNI_2019'] = dashboard_time_series_complete['GNI_2019'].fillna(0)\n",
    "dashboard_time_series_complete['Income group'] = dashboard_time_series_complete['Income group'].fillna(0)"
   ]
  },
  {
   "cell_type": "markdown",
   "id": "08344a43",
   "metadata": {},
   "source": [
    "## 3.2. Join mit Tabelle \"testing-covid-data.csv\"-> Daten über Testungen"
   ]
  },
  {
   "cell_type": "code",
   "execution_count": 22,
   "id": "b5904296",
   "metadata": {},
   "outputs": [],
   "source": [
    "# Tabelle mit Testungen laden (aus Our World In Data)\n",
    "Tests_world = pd.read_csv(\"testing-covid-data.csv\")"
   ]
  },
  {
   "cell_type": "code",
   "execution_count": 23,
   "id": "af979b38",
   "metadata": {},
   "outputs": [
    {
     "data": {
      "text/plain": [
       "244"
      ]
     },
     "execution_count": 23,
     "metadata": {},
     "output_type": "execute_result"
    }
   ],
   "source": [
    "# Nummer aller Länder/Regionen in Test-Tabelle\n",
    "Tests_world['location'].nunique()"
   ]
  },
  {
   "cell_type": "code",
   "execution_count": 24,
   "id": "78153119",
   "metadata": {},
   "outputs": [],
   "source": [
    "# Datumsformat ändern\n",
    "Tests_world[\"date\"] = pd.to_datetime(Tests_world[\"date\"])"
   ]
  },
  {
   "cell_type": "code",
   "execution_count": 25,
   "id": "0270ad98",
   "metadata": {},
   "outputs": [],
   "source": [
    "# Spalten filtern und umbenennen\n",
    "Tests_world = Tests_world[{'location', 'date', 'new_tests', 'total_tests'}]\n",
    "Tests_world = Tests_world.rename(columns={\"location\":\"Country\", \"date\":\"Date\"})"
   ]
  },
  {
   "cell_type": "code",
   "execution_count": 26,
   "id": "5de4b307",
   "metadata": {},
   "outputs": [],
   "source": [
    "# Join mit dashboard_time_series_complete\n",
    "dashboard_time_series_complete = dashboard_time_series_complete.merge(\n",
    "    right = Tests_world,\n",
    "    how = 'left',\n",
    "    on = ['Country', 'Date']\n",
    "    #indicator=True   # fügt Spalte \"_merge\" hinzu -> values: left_only OR right_only OR both\n",
    ")"
   ]
  },
  {
   "cell_type": "code",
   "execution_count": 27,
   "id": "c89cca87",
   "metadata": {},
   "outputs": [],
   "source": [
    "# NaN to 0\n",
    "dashboard_time_series_complete['new_tests'] = dashboard_time_series_complete['new_tests'].fillna(0)\n",
    "dashboard_time_series_complete['total_tests'] = dashboard_time_series_complete['total_tests'].fillna(0)\n",
    "\n",
    "# Spalte \"_merge\" entfernen\n",
    "dashboard_time_series_complete = dashboard_time_series_complete.drop([\"_merge\"], axis=1)"
   ]
  },
  {
   "cell_type": "code",
   "execution_count": 28,
   "id": "38aa371c",
   "metadata": {},
   "outputs": [],
   "source": [
    "# Kalukaltionen:\n",
    "# relative KPIs\n",
    "dashboard_time_series_complete['total_tests_rel'] = (dashboard_time_series_complete['total_tests']*100) / dashboard_time_series_complete['Population']"
   ]
  },
  {
   "cell_type": "markdown",
   "id": "27b75f98",
   "metadata": {},
   "source": [
    "## 3.3. Export der finalen Tabelle"
   ]
  },
  {
   "cell_type": "code",
   "execution_count": 29,
   "id": "8cebc655",
   "metadata": {},
   "outputs": [],
   "source": [
    "# finale Tabelle als CSV speichern\n",
    "dashboard_time_series_complete.to_csv('dashboard_time_series_complete.csv')"
   ]
  },
  {
   "cell_type": "code",
   "execution_count": 30,
   "id": "36f792db",
   "metadata": {},
   "outputs": [
    {
     "name": "stdout",
     "output_type": "stream",
     "text": [
      "<class 'pandas.core.frame.DataFrame'>\n",
      "Int64Index: 158424 entries, 0 to 158423\n",
      "Data columns (total 18 columns):\n",
      " #   Column               Non-Null Count   Dtype         \n",
      "---  ------               --------------   -----         \n",
      " 0   Date                 158424 non-null  datetime64[ns]\n",
      " 1   Country              158424 non-null  object        \n",
      " 2   Confirmed_Cases      158424 non-null  int64         \n",
      " 3   Deaths               158424 non-null  int64         \n",
      " 4   New_Cases            158424 non-null  int64         \n",
      " 5   New_Deaths           158424 non-null  int64         \n",
      " 6   Doses_admin          158424 non-null  float64       \n",
      " 7   Population           158424 non-null  int32         \n",
      " 8   GDP                  158424 non-null  float64       \n",
      " 9   Confirmed_Cases_rel  158424 non-null  float64       \n",
      " 10  Deaths_rel           158424 non-null  float64       \n",
      " 11  Doses_admin_per_100  158424 non-null  float64       \n",
      " 12  GDP_pro_Kopf         158424 non-null  float64       \n",
      " 13  GNI_2019             158424 non-null  float64       \n",
      " 14  Income group         158424 non-null  object        \n",
      " 15  new_tests            158424 non-null  float64       \n",
      " 16  total_tests          158424 non-null  float64       \n",
      " 17  total_tests_rel      158424 non-null  float64       \n",
      "dtypes: datetime64[ns](1), float64(10), int32(1), int64(4), object(2)\n",
      "memory usage: 22.4+ MB\n"
     ]
    }
   ],
   "source": [
    "# finale Tabelle ausgeben\n",
    "dashboard_time_series_complete.info()"
   ]
  },
  {
   "cell_type": "code",
   "execution_count": null,
   "id": "b3ec94af",
   "metadata": {},
   "outputs": [],
   "source": []
  }
 ],
 "metadata": {
  "kernelspec": {
   "display_name": "Python 3 (ipykernel)",
   "language": "python",
   "name": "python3"
  },
  "language_info": {
   "codemirror_mode": {
    "name": "ipython",
    "version": 3
   },
   "file_extension": ".py",
   "mimetype": "text/x-python",
   "name": "python",
   "nbconvert_exporter": "python",
   "pygments_lexer": "ipython3",
   "version": "3.7.11"
  }
 },
 "nbformat": 4,
 "nbformat_minor": 5
}
