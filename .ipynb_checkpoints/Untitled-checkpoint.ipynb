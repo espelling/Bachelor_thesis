{
 "cells": [
  {
   "cell_type": "code",
   "execution_count": 1,
   "id": "320db3f2",
   "metadata": {},
   "outputs": [],
   "source": [
    "import matplotlib.pyplot as plt\n",
    "import matplotlib.dates as mdates\n",
    "import pandas as pd\n",
    "import seaborn as sns\n",
    "\n",
    "\n",
    "pd.set_option('display.max_rows', None)"
   ]
  },
  {
   "cell_type": "code",
   "execution_count": 5,
   "id": "625e7d49",
   "metadata": {},
   "outputs": [
    {
     "name": "stdout",
     "output_type": "stream",
     "text": [
      "<class 'pandas.core.frame.DataFrame'>\n",
      "RangeIndex: 830 entries, 0 to 829\n",
      "Columns: 449 entries, UID to 2022-02-21\n",
      "dtypes: float64(444), object(5)\n",
      "memory usage: 2.8+ MB\n",
      "None\n",
      "    UID iso2 iso3  code3  FIPS  Admin2 Province_State Country_Region      Lat  \\\n",
      "0   4.0   AF  AFG    4.0   NaN     NaN            NaN    Afghanistan  33.9391   \n",
      "1   8.0   AL  ALB    8.0   NaN     NaN            NaN        Albania  41.1533   \n",
      "2  12.0   DZ  DZA   12.0   NaN     NaN            NaN        Algeria  28.0339   \n",
      "3  20.0   AD  AND   20.0   NaN     NaN            NaN        Andorra  42.5063   \n",
      "4  24.0   AO  AGO   24.0   NaN     NaN            NaN         Angola -11.2027   \n",
      "\n",
      "     Long_  ...  2022-02-12  2022-02-13  2022-02-14  2022-02-15  2022-02-16  \\\n",
      "0  67.7100  ...   5216998.0   5216998.0   5321308.0   5321308.0   5321308.0   \n",
      "1  20.1683  ...   2639523.0   2639523.0   2639523.0   2639523.0   2639523.0   \n",
      "2   1.6596  ...  12974545.0  12974545.0  13461201.0  13461201.0  13461201.0   \n",
      "3   1.5218  ...    140193.0    140193.0    140193.0    140193.0    140193.0   \n",
      "4  17.8739  ...  15039557.0  15039557.0  15505389.0  15505389.0  15505389.0   \n",
      "\n",
      "   2022-02-17  2022-02-18  2022-02-19  2022-02-20  2022-02-21  \n",
      "0   5321308.0   5321308.0   5321308.0   5321308.0   5412309.0  \n",
      "1   2669695.0   2669695.0   2673183.0   2673183.0   2686398.0  \n",
      "2  13461201.0  13461201.0  13461201.0  13461201.0  13461201.0  \n",
      "3    140193.0    140193.0    140193.0    140193.0    141962.0  \n",
      "4  15505389.0  15505389.0  15505389.0  15505389.0  15505389.0  \n",
      "\n",
      "[5 rows x 449 columns]\n"
     ]
    }
   ],
   "source": [
    "data_daily_world_doses1 = pd.read_csv('time_series_covid19_vaccine_doses_admin_global.csv')\n",
    "\n",
    "print(data_daily_world_doses1.info())\n",
    "\n",
    "print(data_daily_world_doses1.head())"
   ]
  },
  {
   "cell_type": "code",
   "execution_count": 6,
   "id": "cb3d9ca7",
   "metadata": {},
   "outputs": [
    {
     "name": "stdout",
     "output_type": "stream",
     "text": [
      "<class 'pandas.core.frame.DataFrame'>\n",
      "RangeIndex: 174773 entries, 0 to 174772\n",
      "Data columns (total 8 columns):\n",
      " #   Column                       Non-Null Count   Dtype  \n",
      "---  ------                       --------------   -----  \n",
      " 0   Country_Region               174773 non-null  object \n",
      " 1   Date                         174773 non-null  object \n",
      " 2   Doses_admin                  168806 non-null  float64\n",
      " 3   People_partially_vaccinated  62496 non-null   float64\n",
      " 4   People_fully_vaccinated      62496 non-null   float64\n",
      " 5   Report_Date_String           174773 non-null  object \n",
      " 6   UID                          174289 non-null  float64\n",
      " 7   Province_State               110778 non-null  object \n",
      "dtypes: float64(4), object(4)\n",
      "memory usage: 10.7+ MB\n",
      "None\n",
      "  Country_Region        Date  Doses_admin  People_partially_vaccinated  \\\n",
      "0         Canada  2020-12-14          5.0                          0.0   \n",
      "1          World  2020-12-14          5.0                          0.0   \n",
      "2         Canada  2020-12-15        723.0                          0.0   \n",
      "3          China  2020-12-15    1500000.0                          0.0   \n",
      "4         Russia  2020-12-15      28500.0                      28500.0   \n",
      "\n",
      "   People_fully_vaccinated Report_Date_String    UID Province_State  \n",
      "0                      0.0         2020-12-14  124.0            NaN  \n",
      "1                      0.0         2020-12-14    NaN            NaN  \n",
      "2                      0.0         2020-12-15  124.0            NaN  \n",
      "3                      0.0         2020-12-15  156.0            NaN  \n",
      "4                      0.0         2020-12-15  643.0            NaN  \n"
     ]
    }
   ],
   "source": [
    "data_daily_world_doses2 = pd.read_csv('time_series_covid19_vaccine_global.csv')\n",
    "\n",
    "print(data_daily_world_doses2.info())\n",
    "\n",
    "print(data_daily_world_doses2.head())"
   ]
  },
  {
   "cell_type": "code",
   "execution_count": 8,
   "id": "abb03c99",
   "metadata": {},
   "outputs": [
    {
     "name": "stdout",
     "output_type": "stream",
     "text": [
      "<class 'pandas.core.frame.DataFrame'>\n",
      "RangeIndex: 718 entries, 0 to 717\n",
      "Data columns (total 8 columns):\n",
      " #   Column                       Non-Null Count  Dtype  \n",
      "---  ------                       --------------  -----  \n",
      " 0   Province_State               527 non-null    object \n",
      " 1   Country_Region               718 non-null    object \n",
      " 2   Date                         718 non-null    object \n",
      " 3   Doses_admin                  642 non-null    float64\n",
      " 4   People_partially_vaccinated  182 non-null    float64\n",
      " 5   People_fully_vaccinated      182 non-null    float64\n",
      " 6   Report_Date_String           718 non-null    object \n",
      " 7   UID                          717 non-null    float64\n",
      "dtypes: float64(4), object(4)\n",
      "memory usage: 45.0+ KB\n",
      "None\n"
     ]
    },
    {
     "ename": "AttributeError",
     "evalue": "'DataFrame' object has no attribute 'show'",
     "output_type": "error",
     "traceback": [
      "\u001b[1;31m---------------------------------------------------------------------------\u001b[0m",
      "\u001b[1;31mAttributeError\u001b[0m                            Traceback (most recent call last)",
      "\u001b[1;32m~\\AppData\\Local\\Temp/ipykernel_16964/3023086175.py\u001b[0m in \u001b[0;36m<module>\u001b[1;34m\u001b[0m\n\u001b[0;32m      3\u001b[0m \u001b[0mprint\u001b[0m\u001b[1;33m(\u001b[0m\u001b[0mdata_daily_world_doses3\u001b[0m\u001b[1;33m.\u001b[0m\u001b[0minfo\u001b[0m\u001b[1;33m(\u001b[0m\u001b[1;33m)\u001b[0m\u001b[1;33m)\u001b[0m\u001b[1;33m\u001b[0m\u001b[1;33m\u001b[0m\u001b[0m\n\u001b[0;32m      4\u001b[0m \u001b[1;33m\u001b[0m\u001b[0m\n\u001b[1;32m----> 5\u001b[1;33m \u001b[0mprint\u001b[0m\u001b[1;33m(\u001b[0m\u001b[0mdata_daily_world_doses3\u001b[0m\u001b[1;33m.\u001b[0m\u001b[0mshow\u001b[0m\u001b[1;33m(\u001b[0m\u001b[1;33m)\u001b[0m\u001b[1;33m)\u001b[0m\u001b[1;33m\u001b[0m\u001b[1;33m\u001b[0m\u001b[0m\n\u001b[0m",
      "\u001b[1;32mC:\\ProgramData\\Anaconda3\\envs\\dash\\lib\\site-packages\\pandas\\core\\generic.py\u001b[0m in \u001b[0;36m__getattr__\u001b[1;34m(self, name)\u001b[0m\n\u001b[0;32m   5485\u001b[0m         ):\n\u001b[0;32m   5486\u001b[0m             \u001b[1;32mreturn\u001b[0m \u001b[0mself\u001b[0m\u001b[1;33m[\u001b[0m\u001b[0mname\u001b[0m\u001b[1;33m]\u001b[0m\u001b[1;33m\u001b[0m\u001b[1;33m\u001b[0m\u001b[0m\n\u001b[1;32m-> 5487\u001b[1;33m         \u001b[1;32mreturn\u001b[0m \u001b[0mobject\u001b[0m\u001b[1;33m.\u001b[0m\u001b[0m__getattribute__\u001b[0m\u001b[1;33m(\u001b[0m\u001b[0mself\u001b[0m\u001b[1;33m,\u001b[0m \u001b[0mname\u001b[0m\u001b[1;33m)\u001b[0m\u001b[1;33m\u001b[0m\u001b[1;33m\u001b[0m\u001b[0m\n\u001b[0m\u001b[0;32m   5488\u001b[0m \u001b[1;33m\u001b[0m\u001b[0m\n\u001b[0;32m   5489\u001b[0m     \u001b[1;32mdef\u001b[0m \u001b[0m__setattr__\u001b[0m\u001b[1;33m(\u001b[0m\u001b[0mself\u001b[0m\u001b[1;33m,\u001b[0m \u001b[0mname\u001b[0m\u001b[1;33m:\u001b[0m \u001b[0mstr\u001b[0m\u001b[1;33m,\u001b[0m \u001b[0mvalue\u001b[0m\u001b[1;33m)\u001b[0m \u001b[1;33m->\u001b[0m \u001b[1;32mNone\u001b[0m\u001b[1;33m:\u001b[0m\u001b[1;33m\u001b[0m\u001b[1;33m\u001b[0m\u001b[0m\n",
      "\u001b[1;31mAttributeError\u001b[0m: 'DataFrame' object has no attribute 'show'"
     ]
    }
   ],
   "source": [
    "data_daily_world_doses3 = pd.read_csv('vaccine_data_global.csv')\n",
    "\n",
    "print(data_daily_world_doses3.info())\n",
    "\n",
    "print(data_daily_world_doses3.show())"
   ]
  },
  {
   "cell_type": "code",
   "execution_count": null,
   "id": "f242bc08",
   "metadata": {},
   "outputs": [],
   "source": []
  }
 ],
 "metadata": {
  "kernelspec": {
   "display_name": "Python 3 (ipykernel)",
   "language": "python",
   "name": "python3"
  },
  "language_info": {
   "codemirror_mode": {
    "name": "ipython",
    "version": 3
   },
   "file_extension": ".py",
   "mimetype": "text/x-python",
   "name": "python",
   "nbconvert_exporter": "python",
   "pygments_lexer": "ipython3",
   "version": "3.7.11"
  }
 },
 "nbformat": 4,
 "nbformat_minor": 5
}
